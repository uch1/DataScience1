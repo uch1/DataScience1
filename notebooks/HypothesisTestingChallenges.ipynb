{
 "cells": [
  {
   "cell_type": "markdown",
   "metadata": {},
   "source": [
    "#### Imports "
   ]
  },
  {
   "cell_type": "code",
   "execution_count": 1,
   "metadata": {},
   "outputs": [],
   "source": [
    "import pandas as pd"
   ]
  },
  {
   "cell_type": "code",
   "execution_count": 2,
   "metadata": {},
   "outputs": [],
   "source": [
    "import numpy as np"
   ]
  },
  {
   "cell_type": "code",
   "execution_count": 3,
   "metadata": {},
   "outputs": [],
   "source": [
    "from scipy.stats import norm"
   ]
  },
  {
   "cell_type": "code",
   "execution_count": 4,
   "metadata": {},
   "outputs": [],
   "source": [
    "import matplotlib.pyplot as plt "
   ]
  },
  {
   "cell_type": "markdown",
   "metadata": {},
   "source": [
    "#### Questions "
   ]
  },
  {
   "cell_type": "markdown",
   "metadata": {},
   "source": [
    "For each of the following scenarios, try to answer the following questions:\n",
    "1. What is your null hypothesis?\n",
    "2. What is your alternative hypothesis?\n",
    "3. Is this a one-sample or two sample test?\n",
    "4. Is this a one-sided or two-sided test?\n",
    "5. Is this a left-tail or right-tail test?\n",
    "6. What is your p-value?\n",
    "7. Based on the data, do you reject or fail to reject the null hypothesis?\n",
    "8. In layman’s terms, what does this mean to your boss?\n",
    "\n"
   ]
  },
  {
   "cell_type": "markdown",
   "metadata": {},
   "source": [
    "#### Helper Functions "
   ]
  },
  {
   "cell_type": "markdown",
   "metadata": {},
   "source": [
    "\n"
   ]
  },
  {
   "cell_type": "code",
   "execution_count": 5,
   "metadata": {},
   "outputs": [],
   "source": [
    "#### Calculate Z-Score \n",
    "def calculate_z_score(data_sample, pop_mean, pop_std, N):\n",
    "    z_score = (data_sample - pop_mean)/(pop_std / np.sqrt(N))\n",
    "    return z_score"
   ]
  },
  {
   "cell_type": "code",
   "execution_count": 6,
   "metadata": {},
   "outputs": [],
   "source": [
    "#### Calculate T-Score\n",
    "def calculate_t_score(data_sample, pop_mean, sample_std, N):\n",
    "    t_score = (data_sample - pop_mean)/(sample_std / np.sqrt(N))\n",
    "    return t_score"
   ]
  },
  {
   "cell_type": "code",
   "execution_count": 7,
   "metadata": {},
   "outputs": [],
   "source": [
    "#### Calculating P-value\n",
    "def calculate_p_value(z_score):\n",
    "    p_value = norm.sf(abs(z_score))*2\n",
    "    return p_value "
   ]
  },
  {
   "cell_type": "code",
   "execution_count": 8,
   "metadata": {},
   "outputs": [],
   "source": [
    "#### Accept or reject Null Hypothesis \n",
    "def accept_or_reject_null_hypotheis(data_sample, pop_mean, pop_std, significant_level, N):\n",
    "    \n",
    "    # Calculate z-score \n",
    "    z_score = calculate_z_score(data_sample, pop_mean, pop_std, N)\n",
    "    \n",
    "    # Calculate p-value from z-score \n",
    "    p_value = 2 * norm.sf(np.abs(z_score))\n",
    "    \n",
    "    # Determine whether to accept or reject null hypothesis \n",
    "    if p_value < significant_level:\n",
    "        print('reject null hypothesis')\n",
    "    else:\n",
    "        print('accept null hypothesis')"
   ]
  },
  {
   "cell_type": "code",
   "execution_count": 9,
   "metadata": {},
   "outputs": [],
   "source": [
    "#### Determing whether to use Z-test or T-test in order to accept or reject null hypothesis\n",
    "def z_t_null_hypthesis(data_sample, pop_mean, std, significant_level):\n",
    "    if len(data_sample) > 30: \n",
    "        z_score = calculate_z_score(data_sample, pop_mean, std, len(data_sample))\n",
    "        p_value = 2 * norm.sf(abs(z_score))\n",
    "    else:\n",
    "        t_score = calculate_t_score(data_sample, pop_mean, std, len(data_sample))\n",
    "        p_value = norm.sf(t_score)\n",
    "    \n",
    "    if p_value < significant_level: \n",
    "        print('reject null hypothesis')\n",
    "    else:\n",
    "        print('accept null hypothesis')\n",
    "        "
   ]
  },
  {
   "cell_type": "code",
   "execution_count": 10,
   "metadata": {},
   "outputs": [],
   "source": [
    "#### \n",
    "def accept_or_reject(p_value, significant_level):\n",
    "    if p_value < significant_level:\n",
    "        print('reject null hypothesis')\n",
    "    else: \n",
    "        print('accept null hypothesis')"
   ]
  },
  {
   "cell_type": "code",
   "execution_count": 11,
   "metadata": {},
   "outputs": [],
   "source": [
    "def calculate_signma(data_sample, std, pop_mean):\n",
    "    sigma = np.sqrt((data_sample - std)**2 / pop_mean)\n",
    "    return sigma"
   ]
  },
  {
   "cell_type": "markdown",
   "metadata": {},
   "source": [
    "#### Scenario 1: Website Design Change "
   ]
  },
  {
   "cell_type": "markdown",
   "metadata": {},
   "source": [
    "1. Null Hypothesis: Designs had no effect on sales \n",
    "2. Alternative Hypothesis: Designs had an effect on sales\n",
    "\n",
    "3. Is this a one-sample or two sample test?\n",
    "Answer: This is a two sample test because there are two test groups, where one of groups has a an effect on the sales. \n",
    "\n",
    "4. Is this a one-sided or two-sided test?\n",
    "Answer: One-sided\n",
    "    \n",
    "5. Is this a left-tail or right-tail test?\n",
    "Answer: this is a right tail test because the results falls within the 95 % bracket\n",
    "\n",
    "7. What is your p-value?"
   ]
  },
  {
   "cell_type": "code",
   "execution_count": 12,
   "metadata": {
    "scrolled": true
   },
   "outputs": [
    {
     "data": {
      "text/plain": [
       "'P-value is '"
      ]
     },
     "metadata": {},
     "output_type": "display_data"
    },
    {
     "data": {
      "text/plain": [
       "0.0012527238649780823"
      ]
     },
     "metadata": {},
     "output_type": "display_data"
    }
   ],
   "source": [
    "# Find p-value \n",
    "STD = 3.52**2 + 4.22**2\n",
    "SAMPLE_SIZE = 100 + 100 \n",
    "p_value = calculate_p_value(calculate_z_score(data_sample=22.62, pop_mean=15.73, pop_std=STD, N=SAMPLE_SIZE))\n",
    "display('P-value is ', p_value)"
   ]
  },
  {
   "cell_type": "code",
   "execution_count": 13,
   "metadata": {},
   "outputs": [
    {
     "name": "stdout",
     "output_type": "stream",
     "text": [
      "reject null hypothesis\n"
     ]
    }
   ],
   "source": [
    "# Accept or reject null hypothesis \n",
    "accept_or_reject(p_value, 0.05)"
   ]
  },
  {
   "cell_type": "markdown",
   "metadata": {},
   "source": [
    "#### Scenario 2: Advertising Campaign"
   ]
  },
  {
   "cell_type": "markdown",
   "metadata": {},
   "source": [
    "1. Null Hypothesis: New Facebook ad has the same performance as the current ad e.g new_ad <= current_ad\n",
    "2. Alternative Hypothesis: New Facebook ad performs better the current ad e.g new_ad >= current_ad \n",
    "\n",
    "3. Is this a one-sample or two sample test?\n",
    "Answer: This is a two sample test because there are two test groups, where one of groups has a an effect on the sales. \n",
    "\n",
    "4. Is this a one-sided or two-sided test?\n",
    "Answer: One-sided because we want to know if the ad performed better or worse\n",
    "    \n",
    "5. Is this a left-tail or right-tail test?\n",
    "Answer: \n",
    "\n",
    "7. What is your p-value?"
   ]
  },
  {
   "cell_type": "code",
   "execution_count": 14,
   "metadata": {},
   "outputs": [
    {
     "data": {
      "text/plain": [
       "'P-value is '"
      ]
     },
     "metadata": {},
     "output_type": "display_data"
    },
    {
     "data": {
      "text/plain": [
       "0.0"
      ]
     },
     "metadata": {},
     "output_type": "display_data"
    },
    {
     "name": "stdout",
     "output_type": "stream",
     "text": [
      "reject null hypothesis\n"
     ]
    }
   ],
   "source": [
    "# Find p-value \n",
    "STD = 0.04**2 + 0.06**2\n",
    "SAMPLE_SIZE = 10000 + 10000\n",
    "\n",
    "p_value = calculate_p_value(calculate_z_score(data_sample=0.42,pop_mean=0.55,pop_std=STD,N=SAMPLE_SIZE))\n",
    "display('P-value is ', p_value)\n",
    "\n",
    "# Accept or reject null hypothesis\n",
    "accept_or_reject(p_value, 0.05)"
   ]
  },
  {
   "cell_type": "markdown",
   "metadata": {},
   "source": [
    "#### Scenario 3: Reducing Churn Rate "
   ]
  },
  {
   "cell_type": "markdown",
   "metadata": {},
   "source": [
    "1. Null Hypothesis: New Facebook ad has the same performance as the current ad e.g new_ad <= current_ad\n",
    "2. Alternative Hypothesis: New Facebook ad performs better the current ad e.g new_ad >= current_ad \n",
    "\n",
    "3. Is this a one-sample or two sample test?\n",
    "Answer: This is a two sample test because there are two test groups, where one of groups has a an effect on the sales. \n",
    "\n",
    "4. Is this a one-sided or two-sided test?\n",
    "Answer: One-sided because we want to know if the ad performed better or worse\n",
    "    \n",
    "5. Is this a left-tail or right-tail test?\n",
    "Answer: this is a right tail test because the results falls within the 95 % bracket\n",
    "\n",
    "7. What is your p-value?"
   ]
  },
  {
   "cell_type": "code",
   "execution_count": 15,
   "metadata": {},
   "outputs": [
    {
     "data": {
      "text/plain": [
       "'Sigma (pop std) is '"
      ]
     },
     "metadata": {},
     "output_type": "display_data"
    },
    {
     "data": {
      "text/plain": [
       "28.68060958605565"
      ]
     },
     "metadata": {},
     "output_type": "display_data"
    }
   ],
   "source": [
    "sigma = calculate_signma(data_sample=10076,std=0.081,pop_mean=123422)\n",
    "display('Sigma (pop std) is ', sigma)"
   ]
  },
  {
   "cell_type": "code",
   "execution_count": null,
   "metadata": {},
   "outputs": [],
   "source": [
    "z_score = calculate_z_score(data_sample=10076,pop_mean=123422,pop_std=,N=)"
   ]
  }
 ],
 "metadata": {
  "kernelspec": {
   "display_name": "Python 3",
   "language": "python",
   "name": "python3"
  },
  "language_info": {
   "codemirror_mode": {
    "name": "ipython",
    "version": 3
   },
   "file_extension": ".py",
   "mimetype": "text/x-python",
   "name": "python",
   "nbconvert_exporter": "python",
   "pygments_lexer": "ipython3",
   "version": "3.6.5"
  }
 },
 "nbformat": 4,
 "nbformat_minor": 2
}
